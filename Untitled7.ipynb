{
 "cells": [
  {
   "cell_type": "markdown",
   "metadata": {},
   "source": [
    ".<center>\n",
    "**Course Name:** Deep learning with python<center>\n",
    "**Experiment Name:** File copying<center>\n",
    "**Major:** Computer Science and Technology<center>\n",
    "**Class:** <center>\n",
    "**Student Name:** Reeshad Khan<center>\n",
    "**Student ID:** 2019124921<center>\n",
    "**Lab:** Computer Room <center> \n",
    "**Date:** 2020/05/04 <center>"
   ]
  },
  {
   "cell_type": "markdown",
   "metadata": {},
   "source": [
    "### Task\n",
    "Write several lines of text to a TXT file. Then write a function to \"copy\" the contents of the first file to a new file.\n",
    "\n",
    "Don't forget to close files.\n",
    "\n",
    "\n",
    "\n",
    "###################################################################\n",
    "\n",
    "message = '''\n",
    "\n",
    "Home Work 3-3\n",
    "\n",
    "Write several lines of text to a TXT file.\n",
    "\n",
    "Then write a function to \"copy\" the contents of the first file to a new file.\n",
    "\n",
    "Don't forget to close files.\n",
    "\n",
    "Good Luck!\n",
    "\n",
    ":-)\n",
    "\n",
    "'''"
   ]
  },
  {
   "cell_type": "code",
   "execution_count": 2,
   "metadata": {},
   "outputs": [],
   "source": [
    "with open(\"hello.txt\") as f:\n",
    "    with open(\"copy.txt\", \"w\") as f1:\n",
    "        for line in f:\n",
    "            f1.write(line)\n",
    "new_file = open(\"copy.txt\", \"w\")\n",
    "with open(\"hello.txt\", \"r\") as f:\n",
    "    new_file.write(f.read())\n",
    " \n",
    "new_file.close()"
   ]
  },
  {
   "cell_type": "code",
   "execution_count": null,
   "metadata": {},
   "outputs": [],
   "source": []
  }
 ],
 "metadata": {
  "kernelspec": {
   "display_name": "Python 3",
   "language": "python",
   "name": "python3"
  },
  "language_info": {
   "codemirror_mode": {
    "name": "ipython",
    "version": 3
   },
   "file_extension": ".py",
   "mimetype": "text/x-python",
   "name": "python",
   "nbconvert_exporter": "python",
   "pygments_lexer": "ipython3",
   "version": "3.7.6"
  }
 },
 "nbformat": 4,
 "nbformat_minor": 4
}
