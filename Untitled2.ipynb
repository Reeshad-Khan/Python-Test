{
 "cells": [
  {
   "cell_type": "markdown",
   "metadata": {},
   "source": [
    "## Experiment 1 Newton Raphson Method \n",
    ".<center>\n",
    "**Course Name:** Deep learning with python<center>\n",
    "**Experiment Name:** Newton Raphson Method<center>\n",
    "**Major:** Computer Science and Technology<center>\n",
    "**Class:** <center>\n",
    "**Student Name:** Reeshad Khan<center>\n",
    "**Student ID:** 2019124921<center>\n",
    "**Lab:** Computer Room <center> \n",
    "**Date:** 2019/03/13 <center>"
   ]
  },
  {
   "cell_type": "markdown",
   "metadata": {},
   "source": [
    "### 1. Task\n",
    "\n",
    "What's the Newton-Raphson Method? <br>\n",
    "Can you find the root of the Equation $(x-3)^3 + 2x^2 = 0$ in this way?<br>\n",
    "What happens if you give a different initial guess value (e.g 4.0 or 300000.0) and end condition (e.g 1e-2 or 1e-6)respectively?<br>\n",
    "Write the Python code and record the solution."
   ]
  },
  {
   "cell_type": "markdown",
   "metadata": {},
   "source": [
    "### 2 Environment\n",
    "\n",
    "Hardware, software and so on."
   ]
  },
  {
   "cell_type": "markdown",
   "metadata": {},
   "source": [
    "### 3 Method\n",
    "\n",
    "In numerical analysis, Newton's method (also known as the Newton–Raphson method), named after Isaac Newton and<br>\n",
    "Joseph Raphson, is a method for finding successively better approximations to the roots (or zeroes) of a real-valued<br>\n",
    "function. It is one example of a root-finding algorithm.$$x : f(x) = 0$$\n",
    "The Newton–Raphson method in one variable is implemented as follows:<br>\n",
    "The method starts with a function f defined over the real numbers x, the function's derivative f′, and an initial guess x0 for a<br>\n",
    "root of the function f. If the function satisfies the assumptions made in the derivation of the formula and the initial guess is<br>$$x_1 = x_0 \\frac{f(x_0)}{f'(x_0)}$$\n",
    "close, then a better approximation x1 is<br>\n",
    "Geometrically, (x1, 0) is the intersection of the x-axis and the tangent of the graph of f at (x0, f (x0)). The process is<br>\n",
    "repeated as $$x_n+1 = x_n \\frac{f(x_n)}{f'(x_n)}$$\n",
    "until a sufficiently accurate value is reached."
   ]
  },
  {
   "cell_type": "markdown",
   "metadata": {},
   "source": [
    "### 4 Flow diagram"
   ]
  },
  {
   "cell_type": "markdown",
   "metadata": {},
   "source": [
    "### 5 Code"
   ]
  },
  {
   "cell_type": "markdown",
   "metadata": {},
   "source": [
    "### 6 Testing"
   ]
  },
  {
   "cell_type": "markdown",
   "metadata": {},
   "source": [
    "### 7 Analysis and Conclusion"
   ]
  },
  {
   "cell_type": "code",
   "execution_count": null,
   "metadata": {},
   "outputs": [],
   "source": []
  }
 ],
 "metadata": {
  "kernelspec": {
   "display_name": "Python 3",
   "language": "python",
   "name": "python3"
  },
  "language_info": {
   "codemirror_mode": {
    "name": "ipython",
    "version": 3
   },
   "file_extension": ".py",
   "mimetype": "text/x-python",
   "name": "python",
   "nbconvert_exporter": "python",
   "pygments_lexer": "ipython3",
   "version": "3.7.6"
  }
 },
 "nbformat": 4,
 "nbformat_minor": 4
}
