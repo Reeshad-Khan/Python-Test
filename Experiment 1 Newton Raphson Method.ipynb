{
 "cells": [
  {
   "cell_type": "markdown",
   "metadata": {},
   "source": [
    "## Experiment 1 Newton Raphson Method \n",
    ".<center>\n",
    "**Course Name:** Deep learning with python<center>\n",
    "**Experiment Name:** Newton Raphson Method<center>\n",
    "**Major:** Computer Science and Technology<center>\n",
    "**Class:** <center>\n",
    "**Student Name:** Reeshad Khan<center>\n",
    "**Student ID:** 2019124921<center>\n",
    "**Lab:** Computer Room <center> \n",
    "**Date:** 2020/04/16 <center>"
   ]
  },
  {
   "cell_type": "markdown",
   "metadata": {},
   "source": [
    "### 1. Task\n",
    "\n",
    "What's the Newton-Raphson Method? <br>\n",
    "Can you find the root of the Equation $(x-3)^3 + 2x^2 = 0$ in this way?<br>\n",
    "What happens if you give a different initial guess value (e.g 4.0 or 300000.0) and end condition (e.g 1e-2 or 1e-6)respectively?<br>\n",
    "Write the Python code and record the solution."
   ]
  },
  {
   "cell_type": "markdown",
   "metadata": {},
   "source": [
    "### 2 Environment\n",
    "\n",
    "Software: Jupyter Notebook, Spyder."
   ]
  },
  {
   "cell_type": "markdown",
   "metadata": {},
   "source": [
    "### 3 Method\n",
    "\n",
    "In numerical analysis, Newton's method (also known as the Newton–Raphson method), named after Isaac Newton and<br>\n",
    "Joseph Raphson, is a method for finding successively better approximations to the roots (or zeroes) of a real-valued<br>\n",
    "function. It is one example of a root-finding algorithm.$$x : f(x) = 0$$\n",
    "The Newton–Raphson method in one variable is implemented as follows:<br>\n",
    "The method starts with a function f defined over the real numbers x, the function's derivative f′, and an initial guess x0 for a<br>\n",
    "root of the function f. If the function satisfies the assumptions made in the derivation of the formula and the initial guess is<br>$$x_1 = x_0 \\frac{f(x_0)}{f'(x_0)}$$\n",
    "close, then a better approximation x1 is<br>\n",
    "Geometrically, (x1, 0) is the intersection of the x-axis and the tangent of the graph of f at (x0, f (x0)). The process is<br>\n",
    "repeated as $$x_n+1 = x_n \\frac{f(x_n)}{f'(x_n)}$$\n",
    "until a sufficiently accurate value is reached.\n",
    "\n",
    "![Newton Iteration](C:\\Users\\Lenovo\\NewtonIteration_Ani.gif)"
   ]
  },
  {
   "cell_type": "markdown",
   "metadata": {},
   "source": [
    "### 4 Flow diagram"
   ]
  },
  {
   "cell_type": "markdown",
   "metadata": {},
   "source": [
    "### 5 Code"
   ]
  },
  {
   "cell_type": "code",
   "execution_count": 6,
   "metadata": {},
   "outputs": [],
   "source": [
    "import numpy as np\n",
    "def f(x):\n",
    "    return (x-3)*(x-3)*(x-3)-2*x*x\n",
    "def df(x):\n",
    "    return 3*(x-3)*(x-3)-4*x\n",
    "def newton_raphson(n,x,epsilon):\n",
    "    '''    \n",
    "    Newton-Raphson method to search a approximate root.    \n",
    "    n: number of attempts    \n",
    "    x: guessing value    \n",
    "    epsilon: precision    \n",
    "    '''\n",
    "  #  h = f(x) / df(x) \n",
    "  #  while abs(h) >= 0.0001: \n",
    "      #  h = f(x)/df(x) \n",
    "          \n",
    "        # x(i+1) = x(i) - f(x) / f'(x) \n",
    "      #  x = x - h \n",
    "      \n",
    "   # print(\"The value of the root is : \",\"%.4f\"% x) \n",
    "\n",
    "        # set initial guess\n",
    "    x0 = x\n",
    "        # set desired precision and max number of iterations\n",
    "    prec_goal = epsilon\n",
    "    nmax = n\n",
    "        # initialize values for iteration loop\n",
    "    reldiff = 1\n",
    "    xi = x0\n",
    "    counter = 0\n",
    "        # start iteration loop\n",
    "    while reldiff > prec_goal:\n",
    "            # get the number of necessary iterations at that particular x0\n",
    "            # compute relative difference\n",
    "        reldiff = np.abs(f(xi)/df(xi)/xi)\n",
    "            # compute next xi\n",
    "        x1 = xi - f(xi)/df(xi)\n",
    "            # print progress data\n",
    "        print('No of Iteration: %i, The root is: %15.12f, 1st Iteration: %15.12f, Difference: %15.12f' % (counter+1, x1, np.abs(f(xi)/df(xi)), reldiff))\n",
    "            # trade output to input for next iteration step\n",
    "        xi = x1\n",
    "            # increase counter\n",
    "        counter += 1\n"
   ]
  },
  {
   "cell_type": "markdown",
   "metadata": {},
   "source": [
    "### 6 Testing"
   ]
  },
  {
   "cell_type": "code",
   "execution_count": 8,
   "metadata": {},
   "outputs": [
    {
     "name": "stdout",
     "output_type": "stream",
     "text": [
      "No of Iteration: 1, The root is:  1.615384615385, 1st Iteration:  2.384615384615, Difference:  0.596153846154\n",
      "No of Iteration: 2, The root is: -9.473076923077, 1st Iteration: 11.088461538462, Difference:  6.864285714286\n",
      "No of Iteration: 3, The root is: -5.271919060493, 1st Iteration:  4.201157862584, Difference:  0.443483980622\n",
      "No of Iteration: 4, The root is: -2.525917285142, 1st Iteration:  2.746001775351, Difference:  0.520873280459\n",
      "No of Iteration: 5, The root is: -0.741462394953, 1st Iteration:  1.784454890188, Difference:  0.706458164994\n",
      "No of Iteration: 6, The root is:  0.447879159230, 1st Iteration:  1.189341554183, Difference:  1.604048380981\n",
      "No of Iteration: 7, The root is:  1.407060231798, 1st Iteration:  0.959181072567, Difference:  2.141606843722\n",
      "No of Iteration: 8, The root is:  5.439886588557, 1st Iteration:  4.032826356760, Difference:  2.866136264549\n",
      "No of Iteration: 9, The root is: -6.010194805586, 1st Iteration: 11.450081394143, Difference:  2.104838254942\n",
      "No of Iteration: 10, The root is: -3.006643884619, 1st Iteration:  3.003550920967, Difference:  0.499742690233\n",
      "No of Iteration: 11, The root is: -1.054318470070, 1st Iteration:  1.952325414549, Difference:  0.649337097931\n",
      "No of Iteration: 12, The root is:  0.232181161683, 1st Iteration:  1.286499631753, Difference:  1.220219192089\n",
      "No of Iteration: 13, The root is:  1.198528930352, 1st Iteration:  0.966347768668, Difference:  4.162042095330\n",
      "No of Iteration: 14, The root is:  2.962924884604, 1st Iteration:  1.764395954252, Difference:  1.472134639032\n",
      "No of Iteration: 15, The root is:  1.480942499840, 1st Iteration:  1.481982384764, Difference:  0.500175482836\n",
      "No of Iteration: 16, The root is:  9.381791428275, 1st Iteration:  7.900848928435, Difference:  5.335013972040\n",
      "No of Iteration: 17, The root is:  8.390978760624, 1st Iteration:  0.990812667651, Difference:  0.105610178528\n",
      "No of Iteration: 18, The root is:  8.095232855569, 1st Iteration:  0.295745905054, Difference:  0.035245698207\n",
      "No of Iteration: 19, The root is:  8.068558342893, 1st Iteration:  0.026674512677, Difference:  0.003295088993\n"
     ]
    }
   ],
   "source": [
    "newton_raphson(1, 4.0, 1e-2)# Suppose the root is 4.0"
   ]
  },
  {
   "cell_type": "code",
   "execution_count": 9,
   "metadata": {},
   "outputs": [
    {
     "name": "stdout",
     "output_type": "stream",
     "text": [
      "No of Iteration: 1, The root is:  1.615384615385, 1st Iteration:  2.384615384615, Difference:  0.596153846154\n",
      "No of Iteration: 2, The root is: -9.473076923077, 1st Iteration: 11.088461538462, Difference:  6.864285714286\n",
      "No of Iteration: 3, The root is: -5.271919060493, 1st Iteration:  4.201157862584, Difference:  0.443483980622\n",
      "No of Iteration: 4, The root is: -2.525917285142, 1st Iteration:  2.746001775351, Difference:  0.520873280459\n",
      "No of Iteration: 5, The root is: -0.741462394953, 1st Iteration:  1.784454890188, Difference:  0.706458164994\n",
      "No of Iteration: 6, The root is:  0.447879159230, 1st Iteration:  1.189341554183, Difference:  1.604048380981\n",
      "No of Iteration: 7, The root is:  1.407060231798, 1st Iteration:  0.959181072567, Difference:  2.141606843722\n",
      "No of Iteration: 8, The root is:  5.439886588557, 1st Iteration:  4.032826356760, Difference:  2.866136264549\n",
      "No of Iteration: 9, The root is: -6.010194805586, 1st Iteration: 11.450081394143, Difference:  2.104838254942\n",
      "No of Iteration: 10, The root is: -3.006643884619, 1st Iteration:  3.003550920967, Difference:  0.499742690233\n",
      "No of Iteration: 11, The root is: -1.054318470070, 1st Iteration:  1.952325414549, Difference:  0.649337097931\n",
      "No of Iteration: 12, The root is:  0.232181161683, 1st Iteration:  1.286499631753, Difference:  1.220219192089\n",
      "No of Iteration: 13, The root is:  1.198528930352, 1st Iteration:  0.966347768668, Difference:  4.162042095330\n",
      "No of Iteration: 14, The root is:  2.962924884604, 1st Iteration:  1.764395954252, Difference:  1.472134639032\n",
      "No of Iteration: 15, The root is:  1.480942499840, 1st Iteration:  1.481982384764, Difference:  0.500175482836\n",
      "No of Iteration: 16, The root is:  9.381791428275, 1st Iteration:  7.900848928435, Difference:  5.335013972040\n",
      "No of Iteration: 17, The root is:  8.390978760624, 1st Iteration:  0.990812667651, Difference:  0.105610178528\n",
      "No of Iteration: 18, The root is:  8.095232855569, 1st Iteration:  0.295745905054, Difference:  0.035245698207\n",
      "No of Iteration: 19, The root is:  8.068558342893, 1st Iteration:  0.026674512677, Difference:  0.003295088993\n",
      "No of Iteration: 20, The root is:  8.068347742429, 1st Iteration:  0.000210600463, Difference:  0.000026101375\n",
      "No of Iteration: 21, The root is:  8.068347729353, 1st Iteration:  0.000000013076, Difference:  0.000000001621\n",
      "No of Iteration: 22, The root is:  8.068347729353, 1st Iteration:  0.000000000000, Difference:  0.000000000000\n"
     ]
    }
   ],
   "source": [
    "newton_raphson(1, 4.0, 1e-9)# Suppose the root is 4.0"
   ]
  },
  {
   "cell_type": "code",
   "execution_count": 10,
   "metadata": {},
   "outputs": [
    {
     "name": "stdout",
     "output_type": "stream",
     "text": [
      "No of Iteration: 1, The root is: 200001.222232098982, 1st Iteration: 99998.777767901018, Difference:  0.333329259226\n",
      "No of Iteration: 2, The root is: 133335.370391770091, 1st Iteration: 66665.851840328891, Difference:  0.333327222185\n",
      "No of Iteration: 3, The root is: 88891.469172291952, 1st Iteration: 44443.901219478146, Difference:  0.333324166640\n",
      "No of Iteration: 4, The root is: 59262.201703751722, 1st Iteration: 29629.267468540227, Difference:  0.333319583357\n",
      "No of Iteration: 5, The root is: 39509.356741393174, 1st Iteration: 19752.844962358547, Difference:  0.333312708514\n",
      "No of Iteration: 6, The root is: 26340.793458157597, 1st Iteration: 13168.563283235575, Difference:  0.333302396428\n",
      "No of Iteration: 7, The root is: 17561.751306841441, 1st Iteration: 8779.042151316156, Difference:  0.333286928705\n",
      "No of Iteration: 8, The root is: 11709.056595563998, 1st Iteration: 5852.694711277442, Difference:  0.333263728031\n",
      "No of Iteration: 9, The root is: 7807.260205791010, 1st Iteration: 3901.796389772987, Difference:  0.333228929071\n",
      "No of Iteration: 10, The root is: 5206.062739253937, 1st Iteration: 2601.197466537072, Difference:  0.333176735240\n",
      "No of Iteration: 11, The root is: 3471.931284923926, 1st Iteration: 1734.131454330011, Difference:  0.333098454856\n",
      "No of Iteration: 12, The root is: 2315.843933882464, 1st Iteration: 1156.087351041462, Difference:  0.332981057563\n",
      "No of Iteration: 13, The root is: 1545.119461263102, 1st Iteration: 770.724472619362, Difference:  0.332805013906\n",
      "No of Iteration: 14, The root is: 1031.303788987078, 1st Iteration: 513.815672276024, Difference:  0.332541065696\n",
      "No of Iteration: 15, The root is: 688.760973230406, 1st Iteration: 342.542815756672, Difference:  0.332145406053\n",
      "No of Iteration: 16, The root is: 460.400548200855, 1st Iteration: 228.360425029551, Difference:  0.331552503561\n",
      "No of Iteration: 17, The root is: 308.162450939710, 1st Iteration: 152.238097261145, Difference:  0.330664456974\n",
      "No of Iteration: 18, The root is: 206.673682976416, 1st Iteration: 101.488767963294, Difference:  0.329335282913\n",
      "No of Iteration: 19, The root is: 139.019489597994, 1st Iteration: 67.654193378422, Difference:  0.327347886795\n",
      "No of Iteration: 20, The root is: 93.924261889339, 1st Iteration: 45.095227708655, Difference:  0.324380616265\n",
      "No of Iteration: 21, The root is: 63.872331288322, 1st Iteration: 30.051930601017, Difference:  0.319959188356\n",
      "No of Iteration: 22, The root is: 43.855499340753, 1st Iteration: 20.016831947570, Difference:  0.313388153271\n",
      "No of Iteration: 23, The root is: 30.538654571484, 1st Iteration: 13.316844769269, Difference:  0.303652790857\n",
      "No of Iteration: 24, The root is: 21.704621803104, 1st Iteration:  8.834032768380, Difference:  0.289273803720\n",
      "No of Iteration: 25, The root is: 15.886128554333, 1st Iteration:  5.818493248771, Difference:  0.268076232867\n",
      "No of Iteration: 26, The root is: 12.124079446371, 1st Iteration:  3.762049107962, Difference:  0.236813462455\n",
      "No of Iteration: 27, The root is:  9.810628881456, 1st Iteration:  2.313450564915, Difference:  0.190814533602\n",
      "No of Iteration: 28, The root is:  8.575416831564, 1st Iteration:  1.235212049891, Difference:  0.125905491362\n",
      "No of Iteration: 29, The root is:  8.130362408278, 1st Iteration:  0.445054423287, Difference:  0.051898867662\n",
      "No of Iteration: 30, The root is:  8.069451535799, 1st Iteration:  0.060910872479, Difference:  0.007491778278\n"
     ]
    }
   ],
   "source": [
    "newton_raphson(1, 300000.0, 1e-2)#Suppose the root is 300000.0"
   ]
  },
  {
   "cell_type": "code",
   "execution_count": 11,
   "metadata": {},
   "outputs": [
    {
     "name": "stdout",
     "output_type": "stream",
     "text": [
      "No of Iteration: 1, The root is: 200001.222232098982, 1st Iteration: 99998.777767901018, Difference:  0.333329259226\n",
      "No of Iteration: 2, The root is: 133335.370391770091, 1st Iteration: 66665.851840328891, Difference:  0.333327222185\n",
      "No of Iteration: 3, The root is: 88891.469172291952, 1st Iteration: 44443.901219478146, Difference:  0.333324166640\n",
      "No of Iteration: 4, The root is: 59262.201703751722, 1st Iteration: 29629.267468540227, Difference:  0.333319583357\n",
      "No of Iteration: 5, The root is: 39509.356741393174, 1st Iteration: 19752.844962358547, Difference:  0.333312708514\n",
      "No of Iteration: 6, The root is: 26340.793458157597, 1st Iteration: 13168.563283235575, Difference:  0.333302396428\n",
      "No of Iteration: 7, The root is: 17561.751306841441, 1st Iteration: 8779.042151316156, Difference:  0.333286928705\n",
      "No of Iteration: 8, The root is: 11709.056595563998, 1st Iteration: 5852.694711277442, Difference:  0.333263728031\n",
      "No of Iteration: 9, The root is: 7807.260205791010, 1st Iteration: 3901.796389772987, Difference:  0.333228929071\n",
      "No of Iteration: 10, The root is: 5206.062739253937, 1st Iteration: 2601.197466537072, Difference:  0.333176735240\n",
      "No of Iteration: 11, The root is: 3471.931284923926, 1st Iteration: 1734.131454330011, Difference:  0.333098454856\n",
      "No of Iteration: 12, The root is: 2315.843933882464, 1st Iteration: 1156.087351041462, Difference:  0.332981057563\n",
      "No of Iteration: 13, The root is: 1545.119461263102, 1st Iteration: 770.724472619362, Difference:  0.332805013906\n",
      "No of Iteration: 14, The root is: 1031.303788987078, 1st Iteration: 513.815672276024, Difference:  0.332541065696\n",
      "No of Iteration: 15, The root is: 688.760973230406, 1st Iteration: 342.542815756672, Difference:  0.332145406053\n",
      "No of Iteration: 16, The root is: 460.400548200855, 1st Iteration: 228.360425029551, Difference:  0.331552503561\n",
      "No of Iteration: 17, The root is: 308.162450939710, 1st Iteration: 152.238097261145, Difference:  0.330664456974\n",
      "No of Iteration: 18, The root is: 206.673682976416, 1st Iteration: 101.488767963294, Difference:  0.329335282913\n",
      "No of Iteration: 19, The root is: 139.019489597994, 1st Iteration: 67.654193378422, Difference:  0.327347886795\n",
      "No of Iteration: 20, The root is: 93.924261889339, 1st Iteration: 45.095227708655, Difference:  0.324380616265\n",
      "No of Iteration: 21, The root is: 63.872331288322, 1st Iteration: 30.051930601017, Difference:  0.319959188356\n",
      "No of Iteration: 22, The root is: 43.855499340753, 1st Iteration: 20.016831947570, Difference:  0.313388153271\n",
      "No of Iteration: 23, The root is: 30.538654571484, 1st Iteration: 13.316844769269, Difference:  0.303652790857\n",
      "No of Iteration: 24, The root is: 21.704621803104, 1st Iteration:  8.834032768380, Difference:  0.289273803720\n",
      "No of Iteration: 25, The root is: 15.886128554333, 1st Iteration:  5.818493248771, Difference:  0.268076232867\n",
      "No of Iteration: 26, The root is: 12.124079446371, 1st Iteration:  3.762049107962, Difference:  0.236813462455\n",
      "No of Iteration: 27, The root is:  9.810628881456, 1st Iteration:  2.313450564915, Difference:  0.190814533602\n",
      "No of Iteration: 28, The root is:  8.575416831564, 1st Iteration:  1.235212049891, Difference:  0.125905491362\n",
      "No of Iteration: 29, The root is:  8.130362408278, 1st Iteration:  0.445054423287, Difference:  0.051898867662\n",
      "No of Iteration: 30, The root is:  8.069451535799, 1st Iteration:  0.060910872479, Difference:  0.007491778278\n",
      "No of Iteration: 31, The root is:  8.068348088378, 1st Iteration:  0.001103447421, Difference:  0.000136743794\n",
      "No of Iteration: 32, The root is:  8.068347729353, 1st Iteration:  0.000000359025, Difference:  0.000000044498\n",
      "No of Iteration: 33, The root is:  8.068347729353, 1st Iteration:  0.000000000000, Difference:  0.000000000000\n"
     ]
    }
   ],
   "source": [
    "newton_raphson(1, 300000.0, 1e-9)#Suppose the root is 300000.0"
   ]
  },
  {
   "cell_type": "markdown",
   "metadata": {},
   "source": [
    "### 7 Analysis and Conclusion"
   ]
  },
  {
   "cell_type": "markdown",
   "metadata": {},
   "source": [
    "1. We generally used this method to improve the result obtained by either bisection method or method of false position.\n",
    "2. Babylonian method for square root is derived from the Newton-Raphson method."
   ]
  },
  {
   "cell_type": "code",
   "execution_count": null,
   "metadata": {},
   "outputs": [],
   "source": []
  }
 ],
 "metadata": {
  "kernelspec": {
   "display_name": "Python 3",
   "language": "python",
   "name": "python3"
  },
  "language_info": {
   "codemirror_mode": {
    "name": "ipython",
    "version": 3
   },
   "file_extension": ".py",
   "mimetype": "text/x-python",
   "name": "python",
   "nbconvert_exporter": "python",
   "pygments_lexer": "ipython3",
   "version": "3.7.6"
  }
 },
 "nbformat": 4,
 "nbformat_minor": 4
}
