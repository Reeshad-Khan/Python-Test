{
 "cells": [
  {
   "cell_type": "markdown",
   "metadata": {},
   "source": [
    "## Experiment 4 A typical workflow of Keras\n",
    ".<center>\n",
    "**Course Name:** Deep learning with python<center>\n",
    "**Experiment Name:** A typical workflow of Keras<center>\n",
    "**Major:** Computer Science and Technology<center>\n",
    "**Class:** <center>\n",
    "**Student Name:** Reeshad Khan<center>\n",
    "**Student ID:** 2019124921<center>\n",
    "**Lab:** Computer Room <center> \n",
    "**Date:** 2020/05/02 <center>"
   ]
  },
  {
   "cell_type": "markdown",
   "metadata": {},
   "source": [
    "### 0 Task\n",
    "1) Define your training data: input tensors and target tensors.<br>\n",
    "2) Define a network of layers (or model ) that maps your inputs to your targets.<br>\n",
    "3) Configure the learning process by choosing a loss function, an optimizer, and some metrics to monitor.<br>\n",
    "4) Iterate on your training data by calling the fit() method of your model.<br>"
   ]
  },
  {
   "cell_type": "code",
   "execution_count": 185,
   "metadata": {},
   "outputs": [],
   "source": [
    "%matplotlib inline\n",
    "# import libraries\n",
    "import numpy as np\n",
    "import matplotlib.pyplot as plt\n",
    "from keras.models import Sequential\n",
    "from keras.layers import Dense\n",
    "np.random.seed(10)"
   ]
  },
  {
   "cell_type": "markdown",
   "metadata": {},
   "source": [
    "### 1 Prepare data\n",
    "### 1.1 Define the input and target tensors."
   ]
  },
  {
   "cell_type": "code",
   "execution_count": 186,
   "metadata": {},
   "outputs": [],
   "source": [
    "# Generate the data\n",
    "X = np.linspace(-1, 1, 200)\n",
    "np.random.shuffle(X)\n",
    "# generate the target Y with noise\n",
    "Y = 0.6 * X + 2 + np.random.normal(0, 0.06, (200, )) "
   ]
  },
  {
   "cell_type": "code",
   "execution_count": 187,
   "metadata": {},
   "outputs": [
    {
     "data": {
      "image/png": "[encoded data removed]",
      "text/plain": [
       "<Figure size 432x288 with 1 Axes>"
      ]
     },
     "metadata": {
      "needs_background": "light"
     },
     "output_type": "display_data"
    }
   ],
   "source": [
    "# plot data\n",
    "# Plot the target t versus the input x\n",
    "plt.scatter(X, Y)\n",
    "plt.show()"
   ]
  },
  {
   "cell_type": "markdown",
   "metadata": {},
   "source": [
    "### 1.2 Split your data into training and testing data"
   ]
  },
  {
   "cell_type": "code",
   "execution_count": 27,
   "metadata": {},
   "outputs": [],
   "source": [
    "X_train, Y_train = X[:160], Y[:160] # training dataset\n",
    "X_test, Y_test = X[160:], Y[160:] # test dataset"
   ]
  },
  {
   "cell_type": "code",
   "execution_count": 33,
   "metadata": {
    "scrolled": true
   },
   "outputs": [
    {
     "data": {
      "image/png": "[encoded data removed]",
      "text/plain": [
       "<Figure size 432x288 with 1 Axes>"
      ]
     },
     "metadata": {
      "needs_background": "light"
     },
     "output_type": "display_data"
    }
   ],
   "source": [
    "plt.scatter(X_train, Y_train)\n",
    "plt.scatter(X_test, Y_test)\n",
    "plt.show()"
   ]
  },
  {
   "cell_type": "markdown",
   "metadata": {},
   "source": [
    "### 2 Create Model\n",
    "Define a network of layers (or model ) that maps your inputs to your targets."
   ]
  },
  {
   "cell_type": "code",
   "execution_count": 192,
   "metadata": {},
   "outputs": [],
   "source": [
    "# Construct model\n",
    "model = Sequential()\n",
    "model.add(Dense(input_dim=1, units=1)) "
   ]
  },
  {
   "cell_type": "markdown",
   "metadata": {},
   "source": [
    "### 3 Compile Model\n",
    "Configure the learning process by choosing a loss function, an optimizer, and some metrics to monitor."
   ]
  },
  {
   "cell_type": "code",
   "execution_count": 207,
   "metadata": {},
   "outputs": [],
   "source": [
    "# select loss function and optimizer\n",
    "model.compile(loss='mse', optimizer='sgd', metrics=[\"acc\"])\n"
   ]
  },
  {
   "cell_type": "markdown",
   "metadata": {},
   "source": [
    "### 4 Training\n",
    "Iterate on your training data by calling the fit() method of your model."
   ]
  },
  {
   "cell_type": "code",
   "execution_count": 208,
   "metadata": {},
   "outputs": [
    {
     "name": "stdout",
     "output_type": "stream",
     "text": [
      "Training -----------\n",
      "Epoch 1/10\n",
      "160/160 [==============================] - 0s 2ms/step - loss: 0.0041 - acc: 0.0000e+00\n",
      "Epoch 2/10\n",
      "160/160 [==============================] - 0s 75us/step - loss: 0.0041 - acc: 0.0000e+00\n",
      "Epoch 3/10\n",
      "160/160 [==============================] - 0s 100us/step - loss: 0.0041 - acc: 0.0000e+00\n",
      "Epoch 4/10\n",
      "160/160 [==============================] - 0s 181us/step - loss: 0.0041 - acc: 0.0000e+00\n",
      "Epoch 5/10\n",
      "160/160 [==============================] - 0s 112us/step - loss: 0.0041 - acc: 0.0000e+00\n",
      "Epoch 6/10\n",
      "160/160 [==============================] - 0s 274us/step - loss: 0.0041 - acc: 0.0000e+00\n",
      "Epoch 7/10\n",
      "160/160 [==============================] - 0s 125us/step - loss: 0.0041 - acc: 0.0000e+00\n",
      "Epoch 8/10\n",
      "160/160 [==============================] - 0s 293us/step - loss: 0.0041 - acc: 0.0000e+00\n",
      "Epoch 9/10\n",
      "160/160 [==============================] - 0s 131us/step - loss: 0.0041 - acc: 0.0000e+00\n",
      "Epoch 10/10\n",
      "160/160 [==============================] - 0s 118us/step - loss: 0.0041 - acc: 0.0000e+00\n"
     ]
    },
    {
     "data": {
      "text/plain": [
       "<keras.callbacks.callbacks.History at 0x233b865a948>"
      ]
     },
     "execution_count": 208,
     "metadata": {},
     "output_type": "execute_result"
    }
   ],
   "source": [
    "# Training\n",
    "print('Training -----------')\n",
    "model.fit(X_train, Y_train, epochs=10)"
   ]
  },
  {
   "cell_type": "markdown",
   "metadata": {},
   "source": [
    "Show parameters W and b"
   ]
  },
  {
   "cell_type": "code",
   "execution_count": 209,
   "metadata": {},
   "outputs": [
    {
     "name": "stdout",
     "output_type": "stream",
     "text": [
      "Weights= [[0.591986]] \n",
      "biases= [2.0083356]\n"
     ]
    }
   ],
   "source": [
    "W, b = model.layers[0].get_weights()\n",
    "print('Weights=', W, '\\nbiases=', b)"
   ]
  },
  {
   "cell_type": "markdown",
   "metadata": {},
   "source": [
    "### 5 Testing"
   ]
  },
  {
   "cell_type": "code",
   "execution_count": 210,
   "metadata": {},
   "outputs": [
    {
     "name": "stdout",
     "output_type": "stream",
     "text": [
      "\n",
      "Testing ------------\n",
      "40/40 [==============================] - 0s 6ms/step\n",
      "test cost: [0.003252018941566348, 0.0]\n"
     ]
    }
   ],
   "source": [
    "# testing\n",
    "print('\\nTesting ------------')\n",
    "cost = model.evaluate(X_test, Y_test, batch_size=40, verbose=1)\n",
    "print('test cost:', cost) "
   ]
  },
  {
   "cell_type": "markdown",
   "metadata": {},
   "source": [
    "### 6 Plot the result"
   ]
  },
  {
   "cell_type": "code",
   "execution_count": 211,
   "metadata": {},
   "outputs": [
    {
     "data": {
      "image/png": "[encoded data removed]",
      "text/plain": [
       "<Figure size 432x288 with 1 Axes>"
      ]
     },
     "metadata": {
      "needs_background": "light"
     },
     "output_type": "display_data"
    }
   ],
   "source": [
    "# plot the result\n",
    "Y_pred = model.predict(X_test)\n",
    "plt.scatter(X_test, Y_test, color='red')\n",
    "plt.plot(X_test, Y_pred, color='blue')\n",
    "plt.show()"
   ]
  },
  {
   "cell_type": "markdown",
   "metadata": {},
   "source": [
    "### 7 Analysis and Conclusion"
   ]
  },
  {
   "cell_type": "code",
   "execution_count": null,
   "metadata": {},
   "outputs": [],
   "source": []
  }
 ],
 "metadata": {
  "kernelspec": {
   "display_name": "Python 3",
   "language": "python",
   "name": "python3"
  },
  "language_info": {
   "codemirror_mode": {
    "name": "ipython",
    "version": 3
   },
   "file_extension": ".py",
   "mimetype": "text/x-python",
   "name": "python",
   "nbconvert_exporter": "python",
   "pygments_lexer": "ipython3",
   "version": "3.7.6"
  }
 },
 "nbformat": 4,
 "nbformat_minor": 4
}
