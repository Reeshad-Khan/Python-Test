{
 "cells": [
  {
   "cell_type": "code",
   "execution_count": 8,
   "metadata": {},
   "outputs": [
    {
     "name": "stdout",
     "output_type": "stream",
     "text": [
      "beiJing\n"
     ]
    }
   ],
   "source": [
    "# Python program to remove punctuation from a given string \n",
    "# Function to remove punctuation \n",
    "def Punctuation(string): \n",
    "\n",
    "\t# punctuation marks \n",
    "\tpunctuations = '''!()-[]{};:'\"\\,<>./?@#$%^&*_~'''\n",
    "\n",
    "\t# traverse the given string and if any punctuation \n",
    "\t# marks occur replace it with null \n",
    "\tfor x in string.lower(): \n",
    "\t\tif x in punctuations: \n",
    "\t\t\tstring = string.replace(x, \"\") \n",
    "\n",
    "\t# Print string without punctuation \n",
    "\tprint(string) \n",
    "\n",
    "# Driver program \n",
    "string1 = [\"beiJing!\", \" guangdong \", \" jiangsU\", \" ZHEJiang?\", \"#ShanDONG\", \"ShAAnXi\", \"Fujian##\", \"yunnan?_\"]\n",
    "\n",
    "#String2 = ['beiJing', ' guagZhou ', 'Nanjing ', ' hangzhou?', '#QINGDAO', 'Xi'An', 'xiamen^_^', '_kunming!’]\n",
    "Punctuation(string1)\n",
    "#Punctuation(string2) \n"
   ]
  },
  {
   "cell_type": "code",
   "execution_count": 37,
   "metadata": {},
   "outputs": [
    {
     "name": "stdout",
     "output_type": "stream",
     "text": [
      "[('Beijing', 'Beijing'), ('Guangdong', 'Guagzhou'), ('Jiangsu', 'Nanjing'), ('Zhejiang', 'Hangzhou'), ('Shandong', 'Qingdao'), ('Shaanxi', \"Xi'An\"), ('Fujian', 'Xiamen'), ('Yunnan', 'Kunming')]\n",
      "['Beijing', 'Guangdong', 'Jiangsu', 'Zhejiang', 'Shandong', 'Shaanxi', 'Fujian', 'Yunnan']\n"
     ]
    }
   ],
   "source": [
    "def merge(provinces, cities):\n",
    "    provinces = [\"beiJing!\", \" guangdong \", \" jiangsU\", \" ZHEJiang?\", \"#ShanDONG\", \"ShAAnXi\", \"Fujian##\", \"yunnan?_\"]\n",
    "    cities = [\"beiJing\", \" guagZhou \", \"Nanjing \", \" hangzhou?\", \"#QINGDAO\", \"Xi'An\", \"xiamen^_^\", \"_kunming!\"]\n",
    "    provinces = [l.strip('''!()-[]{};:'\"\\,<>./?@#$%^&*_~ ''') for l in provinces]\n",
    "    provinces = [l.title() for l in provinces]\n",
    "    cities = [l.strip('''!()-[]{};:'\"\\,<>./?@#$%^&*_~ ''') for l in cities]\n",
    "    cities = [l.title() for l in cities]\n",
    "    #print(provinces)\n",
    "    #print(cities)  \n",
    "    merged_list = [(provinces[i], cities[i]) for i in range(0, len(provinces))] \n",
    "    return merged_list \n",
    "      \n",
    "print(merge(provinces, cities)) \n",
    "\n",
    "print (provinces)"
   ]
  },
  {
   "cell_type": "code",
   "execution_count": null,
   "metadata": {},
   "outputs": [],
   "source": []
  }
 ],
 "metadata": {
  "kernelspec": {
   "display_name": "Python 3",
   "language": "python",
   "name": "python3"
  },
  "language_info": {
   "codemirror_mode": {
    "name": "ipython",
    "version": 3
   },
   "file_extension": ".py",
   "mimetype": "text/x-python",
   "name": "python",
   "nbconvert_exporter": "python",
   "pygments_lexer": "ipython3",
   "version": "3.7.6"
  }
 },
 "nbformat": 4,
 "nbformat_minor": 4
}
